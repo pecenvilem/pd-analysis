{
 "cells": [
  {
   "cell_type": "markdown",
   "id": "2461a949-1495-4716-a88a-7dde2cd94889",
   "metadata": {},
   "source": [
    "# 14PD - semestrální práce\n",
    "## První část analýza dat\n",
    "### Vilém Pecen\n",
    "Tento dokument představuje první část (analýza dat) semestrální práce z předmětu 14PD - Práce s daty.  \n",
    "Pro vypracování bylo použito prostředí [JupyterLab](https://jupyter.org/), které interaktivně vizualizuje výstupy skriptů tvořených v jazyce [Python](https://www.python.org/).  \n",
    "Téma této části semestrální práce je inspirováno činnostmi, které autor plní na stáži u [Správy železnic, s.o.](https://www.spravazeleznic.cz/web/guest) na Oddělení ETCS a moderních technologií Odboru zabezpečovací a telekomunikační techniky (O14). Jde o analýzu logu radioblokové centrály (RBC) systému jednotného evropského vlakového zabezpečovače ETCS."
   ]
  },
  {
   "cell_type": "markdown",
   "id": "4371bc6d-eb21-4ba1-807b-277e21d9b165",
   "metadata": {},
   "source": [
    "## Formát vstupních dat\n",
    "Následující odstavce popisují, jakým způsobem byla získána data pro analýzu.\n",
    "### Log RBC\n",
    "Záznamy o činnosti radioblokové centrály byly staženy v formátu `.xlsx` z diagnostického rozhraní zabezpečovacího zařízení DRA GDS dodavatele tohoto zařízení. Ačkoliv v samotném diagnostickém zobrazení je k dispozici více informací, exportované soubory obsahují pouze hlášení připojení vlaků k jednotlivým RBC a hlášení změny módu palubní jednotky - vždy opatřená časovou značkou události. Ostatní atributy záznamů nejsou pro účely této analýzy příliš významnné.  \n",
    "Níže je uveden technický popis načtených dat, statistické charakteristiky numerických veličin a vzorek dat."
   ]
  },
  {
   "cell_type": "code",
   "execution_count": 74,
   "id": "dded0dc3-2bee-4213-9b51-b57933dec89f",
   "metadata": {},
   "outputs": [
    {
     "data": {
      "text/markdown": [
       "### Vzorek dat:"
      ],
      "text/plain": [
       "<IPython.core.display.Markdown object>"
      ]
     },
     "metadata": {},
     "output_type": "display_data"
    },
    {
     "data": {
      "text/html": [
       "<div>\n",
       "<style scoped>\n",
       "    .dataframe tbody tr th:only-of-type {\n",
       "        vertical-align: middle;\n",
       "    }\n",
       "\n",
       "    .dataframe tbody tr th {\n",
       "        vertical-align: top;\n",
       "    }\n",
       "\n",
       "    .dataframe thead th {\n",
       "        text-align: right;\n",
       "    }\n",
       "</style>\n",
       "<table border=\"1\" class=\"dataframe\">\n",
       "  <thead>\n",
       "    <tr style=\"text-align: right;\">\n",
       "      <th></th>\n",
       "      <th>Čas</th>\n",
       "      <th>Název DLS</th>\n",
       "      <th>Událost</th>\n",
       "      <th>OBU ETCS ID</th>\n",
       "      <th>Číslo vlaku</th>\n",
       "      <th>Délka [m]</th>\n",
       "      <th>Max. rychlost [km/h]</th>\n",
       "      <th>Nápravový tlak [t]</th>\n",
       "      <th>Povel stůj</th>\n",
       "      <th>Druh trakce</th>\n",
       "      <th>Druh vlaku</th>\n",
       "    </tr>\n",
       "  </thead>\n",
       "  <tbody>\n",
       "    <tr>\n",
       "      <th>0</th>\n",
       "      <td>2022-12-16 12:28:39</td>\n",
       "      <td>ETCS Beroun</td>\n",
       "      <td>RBC 62 Beroun - 1022: vznik vlaku</td>\n",
       "      <td>1022</td>\n",
       "      <td>&lt;NA&gt;</td>\n",
       "      <td>&lt;NA&gt;</td>\n",
       "      <td>&lt;NA&gt;</td>\n",
       "      <td>&lt;NA&gt;</td>\n",
       "      <td>NaN</td>\n",
       "      <td>NaN</td>\n",
       "      <td>NaN</td>\n",
       "    </tr>\n",
       "    <tr>\n",
       "      <th>1</th>\n",
       "      <td>2022-12-16 12:28:44</td>\n",
       "      <td>ETCS Beroun</td>\n",
       "      <td>RBC 62 Beroun - 1022: vlak 55246, mód UN</td>\n",
       "      <td>1022</td>\n",
       "      <td>55246</td>\n",
       "      <td>30</td>\n",
       "      <td>110</td>\n",
       "      <td>16</td>\n",
       "      <td>NaN</td>\n",
       "      <td>NaN</td>\n",
       "      <td>NaN</td>\n",
       "    </tr>\n",
       "    <tr>\n",
       "      <th>2</th>\n",
       "      <td>2022-12-16 12:29:33</td>\n",
       "      <td>ETCS Beroun</td>\n",
       "      <td>RBC 62 Beroun - 1022: vlak 55246, mód FS</td>\n",
       "      <td>1022</td>\n",
       "      <td>55246</td>\n",
       "      <td>30</td>\n",
       "      <td>110</td>\n",
       "      <td>16</td>\n",
       "      <td>NaN</td>\n",
       "      <td>NaN</td>\n",
       "      <td>NaN</td>\n",
       "    </tr>\n",
       "    <tr>\n",
       "      <th>3</th>\n",
       "      <td>2022-12-16 12:33:21</td>\n",
       "      <td>ETCS Beroun</td>\n",
       "      <td>RBC 62 Beroun - 1022: zánik vlaku</td>\n",
       "      <td>1022</td>\n",
       "      <td>&lt;NA&gt;</td>\n",
       "      <td>&lt;NA&gt;</td>\n",
       "      <td>&lt;NA&gt;</td>\n",
       "      <td>&lt;NA&gt;</td>\n",
       "      <td>NaN</td>\n",
       "      <td>NaN</td>\n",
       "      <td>NaN</td>\n",
       "    </tr>\n",
       "    <tr>\n",
       "      <th>4</th>\n",
       "      <td>2022-12-16 13:39:51</td>\n",
       "      <td>ETCS Zdice - Plzeň</td>\n",
       "      <td>RBC 64 Ejpovice - Plzeň - 1022: vznik vlaku 55246</td>\n",
       "      <td>1022</td>\n",
       "      <td>55246</td>\n",
       "      <td>30</td>\n",
       "      <td>110</td>\n",
       "      <td>16</td>\n",
       "      <td>NaN</td>\n",
       "      <td>NaN</td>\n",
       "      <td>NaN</td>\n",
       "    </tr>\n",
       "  </tbody>\n",
       "</table>\n",
       "</div>"
      ],
      "text/plain": [
       "                  Čas           Název DLS  ... Druh trakce  Druh vlaku\n",
       "0 2022-12-16 12:28:39         ETCS Beroun  ...         NaN         NaN\n",
       "1 2022-12-16 12:28:44         ETCS Beroun  ...         NaN         NaN\n",
       "2 2022-12-16 12:29:33         ETCS Beroun  ...         NaN         NaN\n",
       "3 2022-12-16 12:33:21         ETCS Beroun  ...         NaN         NaN\n",
       "4 2022-12-16 13:39:51  ETCS Zdice - Plzeň  ...         NaN         NaN\n",
       "\n",
       "[5 rows x 11 columns]"
      ]
     },
     "metadata": {},
     "output_type": "display_data"
    },
    {
     "data": {
      "text/markdown": [
       "### Technické vlastnosti:"
      ],
      "text/plain": [
       "<IPython.core.display.Markdown object>"
      ]
     },
     "metadata": {},
     "output_type": "display_data"
    },
    {
     "data": {
      "application/vnd.jupyter.widget-view+json": {
       "model_id": "566114861c1c43bc94bbd39243fe7de8",
       "version_major": 2,
       "version_minor": 0
      },
      "text/plain": [
       "Output()"
      ]
     },
     "metadata": {},
     "output_type": "display_data"
    },
    {
     "data": {
      "text/markdown": [
       "### Statistické parametry:"
      ],
      "text/plain": [
       "<IPython.core.display.Markdown object>"
      ]
     },
     "metadata": {},
     "output_type": "display_data"
    },
    {
     "data": {
      "text/html": [
       "<div>\n",
       "<style scoped>\n",
       "    .dataframe tbody tr th:only-of-type {\n",
       "        vertical-align: middle;\n",
       "    }\n",
       "\n",
       "    .dataframe tbody tr th {\n",
       "        vertical-align: top;\n",
       "    }\n",
       "\n",
       "    .dataframe thead th {\n",
       "        text-align: right;\n",
       "    }\n",
       "</style>\n",
       "<table border=\"1\" class=\"dataframe\">\n",
       "  <thead>\n",
       "    <tr style=\"text-align: right;\">\n",
       "      <th></th>\n",
       "      <th>OBU ETCS ID</th>\n",
       "      <th>Číslo vlaku</th>\n",
       "      <th>Délka [m]</th>\n",
       "      <th>Max. rychlost [km/h]</th>\n",
       "      <th>Nápravový tlak [t]</th>\n",
       "    </tr>\n",
       "  </thead>\n",
       "  <tbody>\n",
       "    <tr>\n",
       "      <th>count</th>\n",
       "      <td>473.000000</td>\n",
       "      <td>323.0</td>\n",
       "      <td>274.0</td>\n",
       "      <td>274.0</td>\n",
       "      <td>274.0</td>\n",
       "    </tr>\n",
       "    <tr>\n",
       "      <th>mean</th>\n",
       "      <td>37142.162791</td>\n",
       "      <td>6284023.532508</td>\n",
       "      <td>83.755474</td>\n",
       "      <td>102.116788</td>\n",
       "      <td>21.678832</td>\n",
       "    </tr>\n",
       "    <tr>\n",
       "      <th>std</th>\n",
       "      <td>38273.538007</td>\n",
       "      <td>24285310.417489</td>\n",
       "      <td>167.106058</td>\n",
       "      <td>11.220772</td>\n",
       "      <td>1.25172</td>\n",
       "    </tr>\n",
       "    <tr>\n",
       "      <th>min</th>\n",
       "      <td>989.000000</td>\n",
       "      <td>43304.0</td>\n",
       "      <td>17.0</td>\n",
       "      <td>80.0</td>\n",
       "      <td>16.0</td>\n",
       "    </tr>\n",
       "    <tr>\n",
       "      <th>25%</th>\n",
       "      <td>13001.000000</td>\n",
       "      <td>52529.0</td>\n",
       "      <td>20.0</td>\n",
       "      <td>100.0</td>\n",
       "      <td>22.0</td>\n",
       "    </tr>\n",
       "    <tr>\n",
       "      <th>50%</th>\n",
       "      <td>13001.000000</td>\n",
       "      <td>53114.0</td>\n",
       "      <td>20.0</td>\n",
       "      <td>100.0</td>\n",
       "      <td>22.0</td>\n",
       "    </tr>\n",
       "    <tr>\n",
       "      <th>75%</th>\n",
       "      <td>94144.000000</td>\n",
       "      <td>55246.0</td>\n",
       "      <td>20.0</td>\n",
       "      <td>100.0</td>\n",
       "      <td>22.0</td>\n",
       "    </tr>\n",
       "    <tr>\n",
       "      <th>max</th>\n",
       "      <td>94360.000000</td>\n",
       "      <td>100663296.0</td>\n",
       "      <td>680.0</td>\n",
       "      <td>160.0</td>\n",
       "      <td>22.0</td>\n",
       "    </tr>\n",
       "  </tbody>\n",
       "</table>\n",
       "</div>"
      ],
      "text/plain": [
       "        OBU ETCS ID      Číslo vlaku  ...  Max. rychlost [km/h]  Nápravový tlak [t]\n",
       "count    473.000000            323.0  ...                 274.0               274.0\n",
       "mean   37142.162791   6284023.532508  ...            102.116788           21.678832\n",
       "std    38273.538007  24285310.417489  ...             11.220772             1.25172\n",
       "min      989.000000          43304.0  ...                  80.0                16.0\n",
       "25%    13001.000000          52529.0  ...                 100.0                22.0\n",
       "50%    13001.000000          53114.0  ...                 100.0                22.0\n",
       "75%    94144.000000          55246.0  ...                 100.0                22.0\n",
       "max    94360.000000      100663296.0  ...                 160.0                22.0\n",
       "\n",
       "[8 rows x 5 columns]"
      ]
     },
     "metadata": {},
     "output_type": "display_data"
    }
   ],
   "source": [
    "from IPython.display import display, Markdown\n",
    "from ipywidgets import Output\n",
    "import pandas as pd\n",
    "from log import load_data\n",
    "from column_names import *\n",
    "example_data: pd.DataFrame = load_data(\"./data/20221221_praha.xlsx\")\n",
    "o = Output()\n",
    "with o:\n",
    "    example_data.info()\n",
    "display(\n",
    "    Markdown(\"### Vzorek dat:\"), example_data.head(),\n",
    "    Markdown(\"### Technické vlastnosti:\"), o,\n",
    "    Markdown(\"### Statistické parametry:\"), example_data.describe()\n",
    ")"
   ]
  },
  {
   "cell_type": "markdown",
   "id": "4ceaace4-4bc0-4846-a2e6-58985ab36dff",
   "metadata": {},
   "source": [
    "### Data o poloze železničních stanic\n",
    "Pro účely vizualizace se autor rozhodl využít prostorová data o poloze železničních stanic v ČR dostupná z projektu [OpenStreetMap](https://www.openstreetmap.org/#map=8/49.611/15.408). Pomocí nástroje [Overpass](https://overpass-turbo.eu/) byl vytvořen \"dotaz\" (viz soubor geo/query.txt), pomocí nějž je možné z mapových dat vyfiltrovat pouze objekty s atributy popisujícími železniční stanici. (Určení prostorových limitů pro dotaz pak představuje viditelná část mapy při spuštění vyhledávání.) Data byla stažena ve formátu `.geojson`, pro účely využití k vizualizaci byly s cílem zrychlení opakovaného načítání uloženy na lokální úložiště ve formátu `.parquet` ([Apache](https://parquet.apache.org/)).  \n",
    "Jako podkladová mapa bude použita [OpenRailwayMap](https://www.openrailwaymap.org/).  \n",
    "Pozice stanic slouží k přibližnému vyznačení oblasti, z níž jsou v daném načteném `.xlsx` souboru s logy dostupná data. K tomutu určení jsou využity \"názvy\" jednotlivých RBC, které často odpovídají označení některé železniční stanice. Alternativní postup hledání geografických umístění pro tyto názvy pomocí tzv. [geokódování](https://en.wikipedia.org/wiki/Address_geocoding) se ukázal jako poměrně náročnější a méně přesný."
   ]
  },
  {
   "cell_type": "markdown",
   "id": "018c43a1-0f8e-4742-b5b4-c3c7baf909c9",
   "metadata": {},
   "source": [
    "### Cíl analýzy\n",
    "Cílem analýzy souborů logu je nalezení nenahlášených provozních incidentů a výpadků systému ETCS. Zatím byly zpracovány postupy hledání nouzových zastavení vlaků systémem ETCS (přechod do tzv. módu Trip - TR), výpadek spojení mezi palubní a traťovou částí a neoprávněná aktivace procedury \"Potlačení - Override\" strojvedoucím.\n",
    "- **Mód Trip** je detekován prostým výskytem kódu `TR` v daném záznamu\n",
    "- **Rozpad spojení** je vyhodnocován při hlášení odpojení vlaku jednoucího v módu FS (Plný dohled - Full Supervision) od RBC, pokud poté následuje opětovné připojení ke stejnému RBC v módu TR, PT (Post Trip), či SR (Staff Responsible) \\[Při rozpadu spojení dojde také k nouzovému zastevení vlaku, systém o této události ale nemusí dostat hlášení\\.]\n",
    "- **Nedovolené Potlačení** je vyhodnoceno v případě, kdy vlak přejde z módu FS přes mód SR do módu OS (On Sight), kdy mezi těmito přechody je (s určitou tolerancí) časový odstup 100, nebo 60 s - podle verze systému."
   ]
  },
  {
   "cell_type": "markdown",
   "id": "3c2ab08c-864d-4042-b89f-599042036d2b",
   "metadata": {},
   "source": [
    "## Popis řešení\n",
    "Při vypracování této práce byly použity následující rozšiřující balíčky pro Python:\n",
    "- **Pandas, Numpy** - práce s daty\n",
    "- **GeoPandas, ipyleaflet** - vykreslování map, práce s geografickými daty\n",
    "- **Jupyter Widgets (ipywidgets)** - interaktivní ovládací prvky v prostředí JupyterLab\n",
    "- **Matplotlib** - tvorba grafů\n",
    "Seznam veškerých instalovaných balíčků je exportován do souboru `requirements.txt`.\n",
    "#### Struktuta\n",
    "Hlavní soubor, který slouží k zobrazení výstupu a ovládání analýzy, je `main.ipynb` (soubor aplikace JupyterLab).  \n",
    "Část kódu vykreslující a obsluhující uživatelské rozhraní je v souboru `ui.py` a `map_tools.py`.  \n",
    "Kód provádějící samotnou datovou analýzu (načítání, zpracování a uložení připravení výsledků pro zobrazení) je pak vyčleněn do souboru `log.py`.  \n",
    "Ostatní soubory slouží pro definici konstant.  \n",
    "\n",
    "Ve složce `data` jsou uloženy zdrojové soubory ve formátu `.xlsx`, složka `geo` obsahuje stažená data o poloze železničních stanic.  "
   ]
  },
  {
   "cell_type": "markdown",
   "id": "679db09a-35ab-4648-b888-8b9e3e8b672d",
   "metadata": {},
   "source": [
    "Následující sekce již obsahují ovládací rozhraní a výstupy pro analýzu jednotlivých vstupních souborů `.xlsx`."
   ]
  },
  {
   "cell_type": "code",
   "execution_count": 61,
   "id": "1dd98b4a-fac1-4b63-bc5a-74310abed858",
   "metadata": {
    "tags": []
   },
   "outputs": [
    {
     "name": "stdout",
     "output_type": "stream",
     "text": [
      "The autoreload extension is already loaded. To reload it, use:\n",
      "  %reload_ext autoreload\n"
     ]
    }
   ],
   "source": [
    "# JupyterLab rendering\n",
    "from IPython.display import display, clear_output, Markdown\n",
    "\n",
    "import pandas as pd\n",
    "import numpy as np\n",
    "pd.set_option('display.max_colwidth', 200)\n",
    "pd.set_option('display.max_columns', 0)\n",
    "\n",
    "import ipywidgets as widgets\n",
    "from ipyfilechooser import FileChooser\n",
    "\n",
    "import os\n",
    "\n",
    "# re-import when running import statements (load changes in imported file)\n",
    "%load_ext autoreload\n",
    "%autoreload 2\n",
    "\n",
    "%matplotlib widget"
   ]
  },
  {
   "cell_type": "code",
   "execution_count": 62,
   "id": "070dfb61-c037-4f13-9eec-0dc1d6d96655",
   "metadata": {
    "tags": []
   },
   "outputs": [],
   "source": [
    "# define constants\n",
    "from column_names import *\n",
    "from modes import *\n",
    "from errors import *\n",
    "from parameters import *"
   ]
  },
  {
   "cell_type": "code",
   "execution_count": 63,
   "id": "76e7dcdf-ce81-4321-931b-acf007318a35",
   "metadata": {
    "tags": []
   },
   "outputs": [],
   "source": [
    "from log import analyse\n",
    "from ui import render_ui"
   ]
  },
  {
   "cell_type": "code",
   "execution_count": 76,
   "id": "97299d2c-57fa-4741-bd55-dba533582554",
   "metadata": {
    "tags": []
   },
   "outputs": [
    {
     "data": {
      "text/markdown": [
       "## Analýza diagnostiky RBC"
      ],
      "text/plain": [
       "<IPython.core.display.Markdown object>"
      ]
     },
     "metadata": {},
     "output_type": "display_data"
    },
    {
     "data": {
      "text/markdown": [
       "#### Vyber soubor"
      ],
      "text/plain": [
       "<IPython.core.display.Markdown object>"
      ]
     },
     "metadata": {},
     "output_type": "display_data"
    },
    {
     "data": {
      "application/vnd.jupyter.widget-view+json": {
       "model_id": "bbe6cd7822964ef19db7731d2ced3f71",
       "version_major": 2,
       "version_minor": 0
      },
      "text/plain": [
       "HBox(children=(FileChooser(path='/home/jovyan/work/data', filename='', title='', show_hidden=False, select_des…"
      ]
     },
     "metadata": {},
     "output_type": "display_data"
    },
    {
     "data": {
      "application/vnd.jupyter.widget-view+json": {
       "model_id": "4656721533744188b03a6316a8ef2d14",
       "version_major": 2,
       "version_minor": 0
      },
      "text/plain": [
       "Output()"
      ]
     },
     "metadata": {},
     "output_type": "display_data"
    }
   ],
   "source": [
    "file_chooser = FileChooser(\n",
    "    \"./data\",\n",
    "    filter_pattern=\"*xlsx\",\n",
    "    change_desc=\"Změnit\",\n",
    "    select_desc=\"Vybrat\"\n",
    ")\n",
    "\n",
    "output = widgets.Output()\n",
    "  \n",
    "def update(_):\n",
    "    file_name = file_chooser.selected_filename\n",
    "    with output:\n",
    "        clear_output()\n",
    "        print(\"Working...\")\n",
    "        data=analyse(os.path.join(\"data\", file_name))\n",
    "        clear_output()\n",
    "        display(render_ui(file_name, data))\n",
    "\n",
    "refresh_button = widgets.Button(\n",
    "    description='Načíst',\n",
    "    tooltip='Smazat zobrazené výsledky a načíst ze souboru',\n",
    "    icon='refresh'\n",
    ")\n",
    "refresh_button.on_click(update)\n",
    "\n",
    "file_selection = widgets.HBox([\n",
    "    file_chooser,\n",
    "    refresh_button\n",
    "])\n",
    "\n",
    "display(\n",
    "    Markdown(\"## Analýza diagnostiky RBC\"),\n",
    "    Markdown(\"#### Vyber soubor\"),\n",
    "    file_selection,\n",
    "    output\n",
    ")"
   ]
  }
 ],
 "metadata": {
  "kernelspec": {
   "display_name": "Python 3 (ipykernel)",
   "language": "python",
   "name": "python3"
  },
  "language_info": {
   "codemirror_mode": {
    "name": "ipython",
    "version": 3
   },
   "file_extension": ".py",
   "mimetype": "text/x-python",
   "name": "python",
   "nbconvert_exporter": "python",
   "pygments_lexer": "ipython3",
   "version": "3.10.8"
  }
 },
 "nbformat": 4,
 "nbformat_minor": 5
}
